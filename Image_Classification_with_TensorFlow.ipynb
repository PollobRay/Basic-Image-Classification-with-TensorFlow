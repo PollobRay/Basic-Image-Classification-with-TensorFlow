{
  "nbformat": 4,
  "nbformat_minor": 0,
  "metadata": {
    "colab": {
      "provenance": []
    },
    "kernelspec": {
      "name": "python3",
      "display_name": "Python 3"
    },
    "language_info": {
      "name": "python"
    }
  },
  "cells": [
    {
      "cell_type": "code",
      "execution_count": 1,
      "metadata": {
        "id": "GXjNFGFTbiMF"
      },
      "outputs": [],
      "source": [
        "import tensorflow as tf\n"
      ]
    },
    {
      "cell_type": "markdown",
      "source": [
        "Import MNIST Dataset\n",
        "which is hand written number"
      ],
      "metadata": {
        "id": "gNhbDxQvdi38"
      }
    },
    {
      "cell_type": "code",
      "source": [
        "from tensorflow.keras.datasets import mnist\n",
        "\n",
        "(x_train, y_train), (x_test, y_test) = mnist.load_data() # (training set, labels)\n",
        "# here all variables are numpy array"
      ],
      "metadata": {
        "colab": {
          "base_uri": "https://localhost:8080/"
        },
        "id": "0VSCoMe3c360",
        "outputId": "b25a4b3b-d86a-47f8-9f7b-5dfcd6d030c8"
      },
      "execution_count": 3,
      "outputs": [
        {
          "output_type": "stream",
          "name": "stdout",
          "text": [
            "Downloading data from https://storage.googleapis.com/tensorflow/tf-keras-datasets/mnist.npz\n",
            "11490434/11490434 [==============================] - 0s 0us/step\n"
          ]
        }
      ]
    },
    {
      "cell_type": "markdown",
      "source": [
        "Shapes of imported Array"
      ],
      "metadata": {
        "id": "J0hv8mrWdsvU"
      }
    },
    {
      "cell_type": "code",
      "source": [
        "print('x_train shape: ', x_train.shape)\n",
        "print('y_train shape: ', y_train.shape)\n",
        "print('x_test shape: ', x_test.shape)\n",
        "print('y_test shape: ', y_test.shape)\n",
        "\n",
        "# 60000 is number of example (image) in this array, each example has 28 rows and 28 columns\n",
        "# im image example 28 pixels height and 28 pixels width\n",
        "# similarly for test"
      ],
      "metadata": {
        "colab": {
          "base_uri": "https://localhost:8080/"
        },
        "id": "VT4GlOOXdpCz",
        "outputId": "700dc8e3-b6e1-48f1-c8cf-8a7fe769d15f"
      },
      "execution_count": 5,
      "outputs": [
        {
          "output_type": "stream",
          "name": "stdout",
          "text": [
            "x_train shape:  (60000, 28, 28)\n",
            "y_train shape:  (60000,)\n",
            "x_test shape:  (10000, 28, 28)\n",
            "y_test shape:  (10000,)\n"
          ]
        }
      ]
    },
    {
      "cell_type": "markdown",
      "source": [
        "# Plot an Image Example"
      ],
      "metadata": {
        "id": "xRx2Qd1DeTCr"
      }
    },
    {
      "cell_type": "code",
      "source": [
        "import matplotlib.pyplot as plt\n",
        "%matplotlib inline\n",
        "# change matplot mode\n",
        "\n",
        "plt.imshow(x_train[0], cmap='binary')  #chnage color mode to binary for black and white image\n",
        "plt.show()"
      ],
      "metadata": {
        "colab": {
          "base_uri": "https://localhost:8080/",
          "height": 430
        },
        "id": "sfXCNSIGeZUs",
        "outputId": "64872a42-5382-4927-ff43-cbc1fb270ad6"
      },
      "execution_count": 8,
      "outputs": [
        {
          "output_type": "display_data",
          "data": {
            "text/plain": [
              "<Figure size 640x480 with 1 Axes>"
            ],
            "image/png": "[encoded data removed]"
          },
          "metadata": {}
        }
      ]
    },
    {
      "cell_type": "code",
      "source": [],
      "metadata": {
        "id": "iJusY17cgf4q"
      },
      "execution_count": null,
      "outputs": []
    },
    {
      "cell_type": "markdown",
      "source": [
        "# Display Labels"
      ],
      "metadata": {
        "id": "T73JUXqYgfIV"
      }
    },
    {
      "cell_type": "code",
      "source": [
        "y_train[0]   #print the image actually is"
      ],
      "metadata": {
        "colab": {
          "base_uri": "https://localhost:8080/"
        },
        "id": "svmGtBNtgk2T",
        "outputId": "46b87cc1-7234-4d95-e641-e298bc4ca8e1"
      },
      "execution_count": 9,
      "outputs": [
        {
          "output_type": "execute_result",
          "data": {
            "text/plain": [
              "5"
            ]
          },
          "metadata": {},
          "execution_count": 9
        }
      ]
    },
    {
      "cell_type": "code",
      "source": [
        "print(set(y_train)) # print unique labels"
      ],
      "metadata": {
        "colab": {
          "base_uri": "https://localhost:8080/"
        },
        "id": "6Mk3tCfqgxjM",
        "outputId": "762f4705-9773-441a-a7da-e382fd3caecc"
      },
      "execution_count": 11,
      "outputs": [
        {
          "output_type": "stream",
          "name": "stdout",
          "text": [
            "{0, 1, 2, 3, 4, 5, 6, 7, 8, 9}\n"
          ]
        }
      ]
    },
    {
      "cell_type": "markdown",
      "source": [
        "# One Hot Encoding\n",
        "chnage the origin labels to one hot encoding"
      ],
      "metadata": {
        "id": "kMlzhuoVg-7W"
      }
    },
    {
      "cell_type": "markdown",
      "source": [
        "## Encoding Labels"
      ],
      "metadata": {
        "id": "q3BWYPlXhRL3"
      }
    },
    {
      "cell_type": "code",
      "source": [
        "from tensorflow.keras.utils import to_categorical\n",
        "\n",
        "y_train_encoded = to_categorical(y_train)\n",
        "y_test_encoded = to_categorical(y_test)"
      ],
      "metadata": {
        "id": "0MyQDHmthWAE"
      },
      "execution_count": 12,
      "outputs": []
    },
    {
      "cell_type": "markdown",
      "source": [
        "Validated Shapes"
      ],
      "metadata": {
        "id": "Ou-_IxG_hmdY"
      }
    },
    {
      "cell_type": "code",
      "source": [
        "print('y_train_encoded shape: ', y_train_encoded.shape)   # 60000 is images labels and 10 is used to represent each one hot encoded\n",
        "print('y_test_encoded shape: ', y_test_encoded.shape)"
      ],
      "metadata": {
        "colab": {
          "base_uri": "https://localhost:8080/"
        },
        "id": "-qdLyQDRhrzO",
        "outputId": "56eac196-71ad-4275-b77f-893ce313bd0b"
      },
      "execution_count": 13,
      "outputs": [
        {
          "output_type": "stream",
          "name": "stdout",
          "text": [
            "y_train_encoded shape:  (60000, 10)\n",
            "y_test_encoded shape:  (10000, 10)\n"
          ]
        }
      ]
    },
    {
      "cell_type": "markdown",
      "source": [
        "Display Encoded Labels"
      ],
      "metadata": {
        "id": "6xDmPEEniBsd"
      }
    },
    {
      "cell_type": "code",
      "source": [
        "y_train_encoded[0]"
      ],
      "metadata": {
        "colab": {
          "base_uri": "https://localhost:8080/"
        },
        "id": "3BElmlfliEbP",
        "outputId": "77929715-9fb6-4cdd-a298-7aa380a8bf29"
      },
      "execution_count": 14,
      "outputs": [
        {
          "output_type": "execute_result",
          "data": {
            "text/plain": [
              "array([0., 0., 0., 0., 0., 1., 0., 0., 0., 0.], dtype=float32)"
            ]
          },
          "metadata": {},
          "execution_count": 14
        }
      ]
    },
    {
      "cell_type": "code",
      "source": [
        "y_train[0]  #actual value"
      ],
      "metadata": {
        "colab": {
          "base_uri": "https://localhost:8080/"
        },
        "id": "BevXy2D0iNPW",
        "outputId": "63b77451-95c8-4ba7-ce8f-24365da8f789"
      },
      "execution_count": 15,
      "outputs": [
        {
          "output_type": "execute_result",
          "data": {
            "text/plain": [
              "5"
            ]
          },
          "metadata": {},
          "execution_count": 15
        }
      ]
    },
    {
      "cell_type": "markdown",
      "source": [
        "# **Neural Networks**"
      ],
      "metadata": {
        "id": "mm4ZvdLSiVCe"
      }
    },
    {
      "cell_type": "markdown",
      "source": [
        "**Linear Equation**\n",
        "<br>\n",
        "y = w1x1 + w2x2 + ....... +b <br>\n",
        "Y= W.X + b <br>\n",
        "X=[x1, x2, x3,.....]^T\n"
      ],
      "metadata": {
        "id": "QYm9AUfIijKQ"
      }
    },
    {
      "cell_type": "markdown",
      "source": [
        "**Prepocessing** <br>\n",
        "Unrolling N-dimensioanl Array to vectors\n"
      ],
      "metadata": {
        "id": "29kU03Z0oW7w"
      }
    },
    {
      "cell_type": "code",
      "source": [
        "import numpy as np\n",
        "\n",
        "x_train_reshaped = np.reshape(x_train, (60000, 784)) # desired shape is second argument\n",
        "x_test_reshaped = np.reshape(x_test, (10000, 784))\n",
        "\n",
        "print('x_train_reshaped shape: ', x_train_reshaped.shape)\n",
        "print('x_test_reshaped shape: ', x_test_reshaped.shape)\n",
        "\n",
        "# each element is now 784 dimension vector\n",
        "# and each value in this vector is corresponding to pixel value of image"
      ],
      "metadata": {
        "colab": {
          "base_uri": "https://localhost:8080/"
        },
        "id": "5_ILrU6mokah",
        "outputId": "20326a63-fa97-47e5-ecbb-4a7492caaa4d"
      },
      "execution_count": 16,
      "outputs": [
        {
          "output_type": "stream",
          "name": "stdout",
          "text": [
            "x_train_reshaped shape:  (60000, 784)\n",
            "x_test_reshaped shape:  (10000, 784)\n"
          ]
        }
      ]
    },
    {
      "cell_type": "markdown",
      "source": [
        "Display pixel values"
      ],
      "metadata": {
        "id": "GiWOgXh8pbO6"
      }
    },
    {
      "cell_type": "code",
      "source": [
        "print(set(x_train_reshaped[0]))"
      ],
      "metadata": {
        "colab": {
          "base_uri": "https://localhost:8080/"
        },
        "id": "LaZyhRbhpdy6",
        "outputId": "6876889b-12d2-401f-ba17-025217c82deb"
      },
      "execution_count": 17,
      "outputs": [
        {
          "output_type": "stream",
          "name": "stdout",
          "text": [
            "{0, 1, 2, 3, 9, 11, 14, 16, 18, 23, 24, 25, 26, 27, 30, 35, 36, 39, 43, 45, 46, 49, 55, 56, 64, 66, 70, 78, 80, 81, 82, 90, 93, 94, 107, 108, 114, 119, 126, 127, 130, 132, 133, 135, 136, 139, 148, 150, 154, 156, 160, 166, 170, 171, 172, 175, 182, 183, 186, 187, 190, 195, 198, 201, 205, 207, 212, 213, 219, 221, 225, 226, 229, 238, 240, 241, 242, 244, 247, 249, 250, 251, 252, 253, 255}\n"
          ]
        }
      ]
    },
    {
      "cell_type": "markdown",
      "source": [
        "Data Normalization"
      ],
      "metadata": {
        "id": "mKvClW38pxVb"
      }
    },
    {
      "cell_type": "code",
      "source": [
        "x_mean = np.mean(x_train_reshaped) # mean value\n",
        "x_std = np.std(x_train_reshaped)  # standard deviation\n",
        "\n",
        "print('mean: ', x_mean)\n",
        "print('std: ', x_std)\n",
        "\n",
        "epsilon = 1e-10\n",
        "\n",
        "x_train_norm = (x_train_reshaped - x_mean)/(x_std + epsilon) # here x_train_reshaped is vector\n",
        "x_test_norm = (x_test_reshaped - x_mean)/(x_std + epsilon)\n",
        "# very small value of x_std leads to (1/0)unstability computation and adding another small value to solve the problem"
      ],
      "metadata": {
        "colab": {
          "base_uri": "https://localhost:8080/"
        },
        "id": "XMex-Q5Ip0vr",
        "outputId": "493ae417-5fbd-410d-bb78-b789aff98b33"
      },
      "execution_count": 21,
      "outputs": [
        {
          "output_type": "stream",
          "name": "stdout",
          "text": [
            "mean:  33.318421449829934\n",
            "std:  78.56748998339798\n"
          ]
        }
      ]
    },
    {
      "cell_type": "markdown",
      "source": [
        "Display Normalized Pixel Values"
      ],
      "metadata": {
        "id": "sOmBmyc-rC_O"
      }
    },
    {
      "cell_type": "code",
      "source": [
        "print(set(x_train_norm[0]))"
      ],
      "metadata": {
        "colab": {
          "base_uri": "https://localhost:8080/"
        },
        "id": "Yjov1x0irNrt",
        "outputId": "3086694e-00b7-4bf3-9bed-fb3a8c7b9ced"
      },
      "execution_count": 22,
      "outputs": [
        {
          "output_type": "stream",
          "name": "stdout",
          "text": [
            "{-0.38589016215482896, 1.306921966983251, 1.17964285952926, 1.803310486053816, 1.6887592893452241, 2.8215433456857437, 2.719720059722551, 1.1923707702746593, 1.7396709323268205, 2.057868700961798, 2.3633385588513764, 2.096052433197995, 1.7651267538176187, 2.7960875241949457, 2.7451758812133495, 2.45243393406917, 0.02140298169794222, -0.22042732246464067, 1.2305545025108566, 0.2759611966059242, 2.210603629906587, 2.6560805059955555, 2.6051688630139593, -0.4240738943910262, 0.4668798577869107, 0.1486820891519332, 0.3905123933145161, 1.0905474843114664, -0.09314821501064967, 1.4851127174188385, 2.7579037919587486, 1.5360243604004349, 0.07231462467953861, -0.13133194724684696, 1.294194056237852, 0.03413089244334132, 1.3451056992194483, 2.274243183633583, -0.24588314395543887, 0.772349715676489, 0.75962180493109, 0.7214380726948927, 0.1995937321335296, -0.41134598364562713, 0.5687031437501034, 0.5941589652409017, 0.9378125553666773, 0.9505404661120763, 0.6068868759863008, 0.4159682148053143, -0.042236572029053274, 2.7706317027041476, 2.1342361654341926, 0.12322626766113501, -0.08042030426525057, 0.16140999989733232, 1.8924058612716097, 1.2560103240016547, 2.185147808415789, 0.6196147867316999, 1.943317504253206, -0.11860403650144787, -0.30952269768243434, 1.9942291472348024, -0.2840668761916362, 2.6306246845047574, 2.286971094378982, -0.19497150097384247, -0.39861807290022805, 0.2886891073513233, 1.7523988430722195, 2.3887943803421745, 2.681536327486354, 1.4596568959280403, 2.439706023323771, 2.7833596134495466, 2.490617666305367, -0.10587612575604877, 1.5614801818912332, 1.9051337720170087, 1.6123918248728295, 1.268738234747054, 1.9560454149986053, 2.6433525952501564, 1.026907930584471}\n"
          ]
        }
      ]
    },
    {
      "cell_type": "markdown",
      "source": [
        "# **Creating a Model**"
      ],
      "metadata": {
        "id": "TUdUbaALrtdp"
      }
    },
    {
      "cell_type": "code",
      "source": [
        "from tensorflow.keras.models import Sequential\n",
        "from tensorflow.keras.layers import Dense\n",
        "\n",
        "model = Sequential([ #input layer is actual input\n",
        "    Dense(128, activation='relu', input_shape=(784,)), #hidden\n",
        "    Dense(128, activation='relu'), #hidden\n",
        "    Dense(10, activation='softmax') # output\n",
        "])"
      ],
      "metadata": {
        "id": "ZzpIN7B4sMRa"
      },
      "execution_count": 25,
      "outputs": []
    },
    {
      "cell_type": "markdown",
      "source": [
        "compiling model"
      ],
      "metadata": {
        "id": "GpWA6cZrtHSt"
      }
    },
    {
      "cell_type": "code",
      "source": [
        "model.compile(\n",
        "    optimizer='sgd', #Stochastic Gradient Descent\n",
        "    loss='categorical_crossentropy', #10 numbers category, minimizes the loss function\n",
        "    metrics=['accuracy']\n",
        ")"
      ],
      "metadata": {
        "id": "zwTB70sPtJx1"
      },
      "execution_count": 26,
      "outputs": []
    },
    {
      "cell_type": "code",
      "source": [
        "model.summary()\n",
        "\n",
        "#here last 10 are b\n",
        "# param is learnable parameter"
      ],
      "metadata": {
        "colab": {
          "base_uri": "https://localhost:8080/"
        },
        "id": "LPoGskUztxv7",
        "outputId": "55252f1c-0de0-4c5d-c277-3df704a781cd"
      },
      "execution_count": 28,
      "outputs": [
        {
          "output_type": "stream",
          "name": "stdout",
          "text": [
            "Model: \"sequential\"\n",
            "_________________________________________________________________\n",
            " Layer (type)                Output Shape              Param #   \n",
            "=================================================================\n",
            " dense (Dense)               (None, 128)               100480    \n",
            "                                                                 \n",
            " dense_1 (Dense)             (None, 128)               16512     \n",
            "                                                                 \n",
            " dense_2 (Dense)             (None, 10)                1290      \n",
            "                                                                 \n",
            "=================================================================\n",
            "Total params: 118282 (462.04 KB)\n",
            "Trainable params: 118282 (462.04 KB)\n",
            "Non-trainable params: 0 (0.00 Byte)\n",
            "_________________________________________________________________\n"
          ]
        }
      ]
    },
    {
      "cell_type": "markdown",
      "source": [
        "# **Training the Model**"
      ],
      "metadata": {
        "id": "h3-0kf0FuY7E"
      }
    },
    {
      "cell_type": "code",
      "source": [
        "model.fit(\n",
        "    x_train_norm,\n",
        "    y_train_encoded,\n",
        "    epochs=3\n",
        ")"
      ],
      "metadata": {
        "colab": {
          "base_uri": "https://localhost:8080/"
        },
        "id": "D3zgOFQ_ueI8",
        "outputId": "8e327d7a-31fd-4c19-90a7-27cd85b91753"
      },
      "execution_count": 29,
      "outputs": [
        {
          "output_type": "stream",
          "name": "stdout",
          "text": [
            "Epoch 1/3\n",
            "1875/1875 [==============================] - 10s 5ms/step - loss: 0.3828 - accuracy: 0.8880\n",
            "Epoch 2/3\n",
            "1875/1875 [==============================] - 7s 4ms/step - loss: 0.1896 - accuracy: 0.9455\n",
            "Epoch 3/3\n",
            "1875/1875 [==============================] - 9s 5ms/step - loss: 0.1431 - accuracy: 0.9583\n"
          ]
        },
        {
          "output_type": "execute_result",
          "data": {
            "text/plain": [
              "<keras.src.callbacks.History at 0x7a32c8976380>"
            ]
          },
          "metadata": {},
          "execution_count": 29
        }
      ]
    },
    {
      "cell_type": "markdown",
      "source": [
        "Evaluating the **model**"
      ],
      "metadata": {
        "id": "yI3SkMaLu7zO"
      }
    },
    {
      "cell_type": "code",
      "source": [
        "loss, accuracy = model.evaluate(x_test_norm, y_test_encoded)\n",
        "\n",
        "print('Test set accuracy in percentage', accuracy*100)"
      ],
      "metadata": {
        "colab": {
          "base_uri": "https://localhost:8080/"
        },
        "id": "NVlZFOSQu--2",
        "outputId": "b0865e37-0cde-48d5-b8b7-ae8e8f6cbbed"
      },
      "execution_count": 31,
      "outputs": [
        {
          "output_type": "stream",
          "name": "stdout",
          "text": [
            "313/313 [==============================] - 1s 2ms/step - loss: 0.1362 - accuracy: 0.9593\n",
            "Test set accuracy in percentage 95.92999815940857\n"
          ]
        }
      ]
    },
    {
      "cell_type": "markdown",
      "source": [
        "# **Predictions**"
      ],
      "metadata": {
        "id": "4HQ473rPvkRM"
      }
    },
    {
      "cell_type": "code",
      "source": [
        "preds = model.predict(x_test_norm)\n",
        "print('shape of preds: ', preds.shape)\n"
      ],
      "metadata": {
        "colab": {
          "base_uri": "https://localhost:8080/"
        },
        "id": "eC9WEr_TvnKn",
        "outputId": "20a7af5f-9f1f-47c5-9e51-d392c47daf57"
      },
      "execution_count": 32,
      "outputs": [
        {
          "output_type": "stream",
          "name": "stdout",
          "text": [
            "313/313 [==============================] - 1s 2ms/step\n",
            "shape of preds:  (10000, 10)\n"
          ]
        }
      ]
    },
    {
      "cell_type": "markdown",
      "source": [
        "**Plot the result**"
      ],
      "metadata": {
        "id": "Ns_xTohqv0dH"
      }
    },
    {
      "cell_type": "code",
      "source": [
        "plt.figure(figsize=(12,12))\n",
        "\n",
        "start_index = 0\n",
        "\n",
        "for i in range(25):\n",
        "  plt.subplot(5,5,i+1)\n",
        "  plt.grid(False)\n",
        "  plt.xticks([])\n",
        "  plt.yticks([])\n",
        "\n",
        "  pred = np.argmax(preds[start_index + i])\n",
        "  gt = y_test[start_index + i] # ground truth\n",
        "\n",
        "  col = 'g' # color green\n",
        "  if pred != gt:\n",
        "    col = 'r'\n",
        "\n",
        "  plt.xlabel('i={} | pred={} | gt={}'.format(start_index + i, pred, gt), color=col)\n",
        "  plt.imshow(x_test[start_index+i], cmap='binary')\n",
        "\n",
        "plt.show()"
      ],
      "metadata": {
        "colab": {
          "base_uri": "https://localhost:8080/",
          "height": 981
        },
        "id": "XEZ_F4y3v4A0",
        "outputId": "390c62ba-eccf-4c8a-e5cb-c9d9e66c3e24"
      },
      "execution_count": 36,
      "outputs": [
        {
          "output_type": "display_data",
          "data": {
            "text/plain": [
              "<Figure size 1200x1200 with 25 Axes>"
            ],
            "image/png": "[encoded data removed]"
          },
          "metadata": {}
        }
      ]
    },
    {
      "cell_type": "code",
      "source": [
        "# index=8 predicting wrong\n",
        "\n",
        "plt.plot(preds[8])\n",
        "plt.show()\n",
        "\n",
        "#shows 6 is higher probality to accurate"
      ],
      "metadata": {
        "colab": {
          "base_uri": "https://localhost:8080/",
          "height": 431
        },
        "id": "Ha-UC_VTxym_",
        "outputId": "7196b7ac-ab98-4e9f-9449-32b3556955d3"
      },
      "execution_count": 38,
      "outputs": [
        {
          "output_type": "display_data",
          "data": {
            "text/plain": [
              "<Figure size 640x480 with 1 Axes>"
            ],
            "image/png": "[encoded data removed]"
          },
          "metadata": {}
        }
      ]
    }
  ]
}